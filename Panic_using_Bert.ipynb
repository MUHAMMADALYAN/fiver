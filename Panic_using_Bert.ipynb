{
  "nbformat": 4,
  "nbformat_minor": 0,
  "metadata": {
    "kernelspec": {
      "display_name": "Python 3",
      "language": "python",
      "name": "python3"
    },
    "language_info": {
      "codemirror_mode": {
        "name": "ipython",
        "version": 3
      },
      "file_extension": ".py",
      "mimetype": "text/x-python",
      "name": "python",
      "nbconvert_exporter": "python",
      "pygments_lexer": "ipython3",
      "version": "3.8.5"
    },
    "colab": {
      "name": "Panic using Bert.ipynb",
      "provenance": [],
      "collapsed_sections": [],
      "include_colab_link": true
    },
    "accelerator": "GPU",
    "widgets": {
      "application/vnd.jupyter.widget-state+json": {
        "f220f97abacd4172bf9b90450315723b": {
          "model_module": "@jupyter-widgets/controls",
          "model_name": "HBoxModel",
          "state": {
            "_view_name": "HBoxView",
            "_dom_classes": [],
            "_model_name": "HBoxModel",
            "_view_module": "@jupyter-widgets/controls",
            "_model_module_version": "1.5.0",
            "_view_count": null,
            "_view_module_version": "1.5.0",
            "box_style": "",
            "layout": "IPY_MODEL_da0d5ce28504422a9bd43014b54bfa2e",
            "_model_module": "@jupyter-widgets/controls",
            "children": [
              "IPY_MODEL_8203bcd8d4af4fe79049115f7596f5dd",
              "IPY_MODEL_06c02e812f154f19b1e03262db1e8ec5"
            ]
          }
        },
        "da0d5ce28504422a9bd43014b54bfa2e": {
          "model_module": "@jupyter-widgets/base",
          "model_name": "LayoutModel",
          "state": {
            "_view_name": "LayoutView",
            "grid_template_rows": null,
            "right": null,
            "justify_content": null,
            "_view_module": "@jupyter-widgets/base",
            "overflow": null,
            "_model_module_version": "1.2.0",
            "_view_count": null,
            "flex_flow": null,
            "width": null,
            "min_width": null,
            "border": null,
            "align_items": null,
            "bottom": null,
            "_model_module": "@jupyter-widgets/base",
            "top": null,
            "grid_column": null,
            "overflow_y": null,
            "overflow_x": null,
            "grid_auto_flow": null,
            "grid_area": null,
            "grid_template_columns": null,
            "flex": null,
            "_model_name": "LayoutModel",
            "justify_items": null,
            "grid_row": null,
            "max_height": null,
            "align_content": null,
            "visibility": null,
            "align_self": null,
            "height": null,
            "min_height": null,
            "padding": null,
            "grid_auto_rows": null,
            "grid_gap": null,
            "max_width": null,
            "order": null,
            "_view_module_version": "1.2.0",
            "grid_template_areas": null,
            "object_position": null,
            "object_fit": null,
            "grid_auto_columns": null,
            "margin": null,
            "display": null,
            "left": null
          }
        },
        "8203bcd8d4af4fe79049115f7596f5dd": {
          "model_module": "@jupyter-widgets/controls",
          "model_name": "FloatProgressModel",
          "state": {
            "_view_name": "ProgressView",
            "style": "IPY_MODEL_1e11e207e7a44f4c938e69aec2e261c9",
            "_dom_classes": [],
            "description": "Downloading: 100%",
            "_model_name": "FloatProgressModel",
            "bar_style": "success",
            "max": 231508,
            "_view_module": "@jupyter-widgets/controls",
            "_model_module_version": "1.5.0",
            "value": 231508,
            "_view_count": null,
            "_view_module_version": "1.5.0",
            "orientation": "horizontal",
            "min": 0,
            "description_tooltip": null,
            "_model_module": "@jupyter-widgets/controls",
            "layout": "IPY_MODEL_743ffd0e2c7a4736afdcf86950dd86dc"
          }
        },
        "06c02e812f154f19b1e03262db1e8ec5": {
          "model_module": "@jupyter-widgets/controls",
          "model_name": "HTMLModel",
          "state": {
            "_view_name": "HTMLView",
            "style": "IPY_MODEL_66db1d53a58c40eda60f431eab6ed628",
            "_dom_classes": [],
            "description": "",
            "_model_name": "HTMLModel",
            "placeholder": "​",
            "_view_module": "@jupyter-widgets/controls",
            "_model_module_version": "1.5.0",
            "value": " 232k/232k [00:00&lt;00:00, 1.61MB/s]",
            "_view_count": null,
            "_view_module_version": "1.5.0",
            "description_tooltip": null,
            "_model_module": "@jupyter-widgets/controls",
            "layout": "IPY_MODEL_0e524a8817f946768b02c983439dd82a"
          }
        },
        "1e11e207e7a44f4c938e69aec2e261c9": {
          "model_module": "@jupyter-widgets/controls",
          "model_name": "ProgressStyleModel",
          "state": {
            "_view_name": "StyleView",
            "_model_name": "ProgressStyleModel",
            "description_width": "initial",
            "_view_module": "@jupyter-widgets/base",
            "_model_module_version": "1.5.0",
            "_view_count": null,
            "_view_module_version": "1.2.0",
            "bar_color": null,
            "_model_module": "@jupyter-widgets/controls"
          }
        },
        "743ffd0e2c7a4736afdcf86950dd86dc": {
          "model_module": "@jupyter-widgets/base",
          "model_name": "LayoutModel",
          "state": {
            "_view_name": "LayoutView",
            "grid_template_rows": null,
            "right": null,
            "justify_content": null,
            "_view_module": "@jupyter-widgets/base",
            "overflow": null,
            "_model_module_version": "1.2.0",
            "_view_count": null,
            "flex_flow": null,
            "width": null,
            "min_width": null,
            "border": null,
            "align_items": null,
            "bottom": null,
            "_model_module": "@jupyter-widgets/base",
            "top": null,
            "grid_column": null,
            "overflow_y": null,
            "overflow_x": null,
            "grid_auto_flow": null,
            "grid_area": null,
            "grid_template_columns": null,
            "flex": null,
            "_model_name": "LayoutModel",
            "justify_items": null,
            "grid_row": null,
            "max_height": null,
            "align_content": null,
            "visibility": null,
            "align_self": null,
            "height": null,
            "min_height": null,
            "padding": null,
            "grid_auto_rows": null,
            "grid_gap": null,
            "max_width": null,
            "order": null,
            "_view_module_version": "1.2.0",
            "grid_template_areas": null,
            "object_position": null,
            "object_fit": null,
            "grid_auto_columns": null,
            "margin": null,
            "display": null,
            "left": null
          }
        },
        "66db1d53a58c40eda60f431eab6ed628": {
          "model_module": "@jupyter-widgets/controls",
          "model_name": "DescriptionStyleModel",
          "state": {
            "_view_name": "StyleView",
            "_model_name": "DescriptionStyleModel",
            "description_width": "",
            "_view_module": "@jupyter-widgets/base",
            "_model_module_version": "1.5.0",
            "_view_count": null,
            "_view_module_version": "1.2.0",
            "_model_module": "@jupyter-widgets/controls"
          }
        },
        "0e524a8817f946768b02c983439dd82a": {
          "model_module": "@jupyter-widgets/base",
          "model_name": "LayoutModel",
          "state": {
            "_view_name": "LayoutView",
            "grid_template_rows": null,
            "right": null,
            "justify_content": null,
            "_view_module": "@jupyter-widgets/base",
            "overflow": null,
            "_model_module_version": "1.2.0",
            "_view_count": null,
            "flex_flow": null,
            "width": null,
            "min_width": null,
            "border": null,
            "align_items": null,
            "bottom": null,
            "_model_module": "@jupyter-widgets/base",
            "top": null,
            "grid_column": null,
            "overflow_y": null,
            "overflow_x": null,
            "grid_auto_flow": null,
            "grid_area": null,
            "grid_template_columns": null,
            "flex": null,
            "_model_name": "LayoutModel",
            "justify_items": null,
            "grid_row": null,
            "max_height": null,
            "align_content": null,
            "visibility": null,
            "align_self": null,
            "height": null,
            "min_height": null,
            "padding": null,
            "grid_auto_rows": null,
            "grid_gap": null,
            "max_width": null,
            "order": null,
            "_view_module_version": "1.2.0",
            "grid_template_areas": null,
            "object_position": null,
            "object_fit": null,
            "grid_auto_columns": null,
            "margin": null,
            "display": null,
            "left": null
          }
        },
        "14d444a455364927be788409bd90fd7b": {
          "model_module": "@jupyter-widgets/controls",
          "model_name": "HBoxModel",
          "state": {
            "_view_name": "HBoxView",
            "_dom_classes": [],
            "_model_name": "HBoxModel",
            "_view_module": "@jupyter-widgets/controls",
            "_model_module_version": "1.5.0",
            "_view_count": null,
            "_view_module_version": "1.5.0",
            "box_style": "",
            "layout": "IPY_MODEL_f665789192064956986784d2bc064bc5",
            "_model_module": "@jupyter-widgets/controls",
            "children": [
              "IPY_MODEL_bde89a4d3def4d5a850b98dac0df2d59",
              "IPY_MODEL_88217457c8504a21a8fba989e867705e"
            ]
          }
        },
        "f665789192064956986784d2bc064bc5": {
          "model_module": "@jupyter-widgets/base",
          "model_name": "LayoutModel",
          "state": {
            "_view_name": "LayoutView",
            "grid_template_rows": null,
            "right": null,
            "justify_content": null,
            "_view_module": "@jupyter-widgets/base",
            "overflow": null,
            "_model_module_version": "1.2.0",
            "_view_count": null,
            "flex_flow": null,
            "width": null,
            "min_width": null,
            "border": null,
            "align_items": null,
            "bottom": null,
            "_model_module": "@jupyter-widgets/base",
            "top": null,
            "grid_column": null,
            "overflow_y": null,
            "overflow_x": null,
            "grid_auto_flow": null,
            "grid_area": null,
            "grid_template_columns": null,
            "flex": null,
            "_model_name": "LayoutModel",
            "justify_items": null,
            "grid_row": null,
            "max_height": null,
            "align_content": null,
            "visibility": null,
            "align_self": null,
            "height": null,
            "min_height": null,
            "padding": null,
            "grid_auto_rows": null,
            "grid_gap": null,
            "max_width": null,
            "order": null,
            "_view_module_version": "1.2.0",
            "grid_template_areas": null,
            "object_position": null,
            "object_fit": null,
            "grid_auto_columns": null,
            "margin": null,
            "display": null,
            "left": null
          }
        },
        "bde89a4d3def4d5a850b98dac0df2d59": {
          "model_module": "@jupyter-widgets/controls",
          "model_name": "FloatProgressModel",
          "state": {
            "_view_name": "ProgressView",
            "style": "IPY_MODEL_9dfebeddb3574e4f9c018edca2f007d9",
            "_dom_classes": [],
            "description": "Downloading: 100%",
            "_model_name": "FloatProgressModel",
            "bar_style": "success",
            "max": 28,
            "_view_module": "@jupyter-widgets/controls",
            "_model_module_version": "1.5.0",
            "value": 28,
            "_view_count": null,
            "_view_module_version": "1.5.0",
            "orientation": "horizontal",
            "min": 0,
            "description_tooltip": null,
            "_model_module": "@jupyter-widgets/controls",
            "layout": "IPY_MODEL_fa8543a46c7b4ccc960ba05ae6fed07e"
          }
        },
        "88217457c8504a21a8fba989e867705e": {
          "model_module": "@jupyter-widgets/controls",
          "model_name": "HTMLModel",
          "state": {
            "_view_name": "HTMLView",
            "style": "IPY_MODEL_75c87abc0b8a40bd80f3ec8e43644b13",
            "_dom_classes": [],
            "description": "",
            "_model_name": "HTMLModel",
            "placeholder": "​",
            "_view_module": "@jupyter-widgets/controls",
            "_model_module_version": "1.5.0",
            "value": " 28.0/28.0 [00:00&lt;00:00, 90.2B/s]",
            "_view_count": null,
            "_view_module_version": "1.5.0",
            "description_tooltip": null,
            "_model_module": "@jupyter-widgets/controls",
            "layout": "IPY_MODEL_d3e913613336424c9a35307741997b54"
          }
        },
        "9dfebeddb3574e4f9c018edca2f007d9": {
          "model_module": "@jupyter-widgets/controls",
          "model_name": "ProgressStyleModel",
          "state": {
            "_view_name": "StyleView",
            "_model_name": "ProgressStyleModel",
            "description_width": "initial",
            "_view_module": "@jupyter-widgets/base",
            "_model_module_version": "1.5.0",
            "_view_count": null,
            "_view_module_version": "1.2.0",
            "bar_color": null,
            "_model_module": "@jupyter-widgets/controls"
          }
        },
        "fa8543a46c7b4ccc960ba05ae6fed07e": {
          "model_module": "@jupyter-widgets/base",
          "model_name": "LayoutModel",
          "state": {
            "_view_name": "LayoutView",
            "grid_template_rows": null,
            "right": null,
            "justify_content": null,
            "_view_module": "@jupyter-widgets/base",
            "overflow": null,
            "_model_module_version": "1.2.0",
            "_view_count": null,
            "flex_flow": null,
            "width": null,
            "min_width": null,
            "border": null,
            "align_items": null,
            "bottom": null,
            "_model_module": "@jupyter-widgets/base",
            "top": null,
            "grid_column": null,
            "overflow_y": null,
            "overflow_x": null,
            "grid_auto_flow": null,
            "grid_area": null,
            "grid_template_columns": null,
            "flex": null,
            "_model_name": "LayoutModel",
            "justify_items": null,
            "grid_row": null,
            "max_height": null,
            "align_content": null,
            "visibility": null,
            "align_self": null,
            "height": null,
            "min_height": null,
            "padding": null,
            "grid_auto_rows": null,
            "grid_gap": null,
            "max_width": null,
            "order": null,
            "_view_module_version": "1.2.0",
            "grid_template_areas": null,
            "object_position": null,
            "object_fit": null,
            "grid_auto_columns": null,
            "margin": null,
            "display": null,
            "left": null
          }
        },
        "75c87abc0b8a40bd80f3ec8e43644b13": {
          "model_module": "@jupyter-widgets/controls",
          "model_name": "DescriptionStyleModel",
          "state": {
            "_view_name": "StyleView",
            "_model_name": "DescriptionStyleModel",
            "description_width": "",
            "_view_module": "@jupyter-widgets/base",
            "_model_module_version": "1.5.0",
            "_view_count": null,
            "_view_module_version": "1.2.0",
            "_model_module": "@jupyter-widgets/controls"
          }
        },
        "d3e913613336424c9a35307741997b54": {
          "model_module": "@jupyter-widgets/base",
          "model_name": "LayoutModel",
          "state": {
            "_view_name": "LayoutView",
            "grid_template_rows": null,
            "right": null,
            "justify_content": null,
            "_view_module": "@jupyter-widgets/base",
            "overflow": null,
            "_model_module_version": "1.2.0",
            "_view_count": null,
            "flex_flow": null,
            "width": null,
            "min_width": null,
            "border": null,
            "align_items": null,
            "bottom": null,
            "_model_module": "@jupyter-widgets/base",
            "top": null,
            "grid_column": null,
            "overflow_y": null,
            "overflow_x": null,
            "grid_auto_flow": null,
            "grid_area": null,
            "grid_template_columns": null,
            "flex": null,
            "_model_name": "LayoutModel",
            "justify_items": null,
            "grid_row": null,
            "max_height": null,
            "align_content": null,
            "visibility": null,
            "align_self": null,
            "height": null,
            "min_height": null,
            "padding": null,
            "grid_auto_rows": null,
            "grid_gap": null,
            "max_width": null,
            "order": null,
            "_view_module_version": "1.2.0",
            "grid_template_areas": null,
            "object_position": null,
            "object_fit": null,
            "grid_auto_columns": null,
            "margin": null,
            "display": null,
            "left": null
          }
        },
        "09b4162e966243cd84c80d75d1c53d51": {
          "model_module": "@jupyter-widgets/controls",
          "model_name": "HBoxModel",
          "state": {
            "_view_name": "HBoxView",
            "_dom_classes": [],
            "_model_name": "HBoxModel",
            "_view_module": "@jupyter-widgets/controls",
            "_model_module_version": "1.5.0",
            "_view_count": null,
            "_view_module_version": "1.5.0",
            "box_style": "",
            "layout": "IPY_MODEL_b3bbffc7f84043f48154047d8f8fea02",
            "_model_module": "@jupyter-widgets/controls",
            "children": [
              "IPY_MODEL_6b024bef491e4a3395bdc3979543bb3e",
              "IPY_MODEL_5ac1c446fbd848c08649b8fa60422a71"
            ]
          }
        },
        "b3bbffc7f84043f48154047d8f8fea02": {
          "model_module": "@jupyter-widgets/base",
          "model_name": "LayoutModel",
          "state": {
            "_view_name": "LayoutView",
            "grid_template_rows": null,
            "right": null,
            "justify_content": null,
            "_view_module": "@jupyter-widgets/base",
            "overflow": null,
            "_model_module_version": "1.2.0",
            "_view_count": null,
            "flex_flow": null,
            "width": null,
            "min_width": null,
            "border": null,
            "align_items": null,
            "bottom": null,
            "_model_module": "@jupyter-widgets/base",
            "top": null,
            "grid_column": null,
            "overflow_y": null,
            "overflow_x": null,
            "grid_auto_flow": null,
            "grid_area": null,
            "grid_template_columns": null,
            "flex": null,
            "_model_name": "LayoutModel",
            "justify_items": null,
            "grid_row": null,
            "max_height": null,
            "align_content": null,
            "visibility": null,
            "align_self": null,
            "height": null,
            "min_height": null,
            "padding": null,
            "grid_auto_rows": null,
            "grid_gap": null,
            "max_width": null,
            "order": null,
            "_view_module_version": "1.2.0",
            "grid_template_areas": null,
            "object_position": null,
            "object_fit": null,
            "grid_auto_columns": null,
            "margin": null,
            "display": null,
            "left": null
          }
        },
        "6b024bef491e4a3395bdc3979543bb3e": {
          "model_module": "@jupyter-widgets/controls",
          "model_name": "FloatProgressModel",
          "state": {
            "_view_name": "ProgressView",
            "style": "IPY_MODEL_6c0590dd9e1e4f3b80587933b946156e",
            "_dom_classes": [],
            "description": "Downloading: 100%",
            "_model_name": "FloatProgressModel",
            "bar_style": "success",
            "max": 466062,
            "_view_module": "@jupyter-widgets/controls",
            "_model_module_version": "1.5.0",
            "value": 466062,
            "_view_count": null,
            "_view_module_version": "1.5.0",
            "orientation": "horizontal",
            "min": 0,
            "description_tooltip": null,
            "_model_module": "@jupyter-widgets/controls",
            "layout": "IPY_MODEL_e368a2215fe74e319e5d94c2e2baab96"
          }
        },
        "5ac1c446fbd848c08649b8fa60422a71": {
          "model_module": "@jupyter-widgets/controls",
          "model_name": "HTMLModel",
          "state": {
            "_view_name": "HTMLView",
            "style": "IPY_MODEL_17f134a3a18047a6b9b9780113070540",
            "_dom_classes": [],
            "description": "",
            "_model_name": "HTMLModel",
            "placeholder": "​",
            "_view_module": "@jupyter-widgets/controls",
            "_model_module_version": "1.5.0",
            "value": " 466k/466k [00:00&lt;00:00, 3.58MB/s]",
            "_view_count": null,
            "_view_module_version": "1.5.0",
            "description_tooltip": null,
            "_model_module": "@jupyter-widgets/controls",
            "layout": "IPY_MODEL_26a6baec90d4486f87076f2a56b752e9"
          }
        },
        "6c0590dd9e1e4f3b80587933b946156e": {
          "model_module": "@jupyter-widgets/controls",
          "model_name": "ProgressStyleModel",
          "state": {
            "_view_name": "StyleView",
            "_model_name": "ProgressStyleModel",
            "description_width": "initial",
            "_view_module": "@jupyter-widgets/base",
            "_model_module_version": "1.5.0",
            "_view_count": null,
            "_view_module_version": "1.2.0",
            "bar_color": null,
            "_model_module": "@jupyter-widgets/controls"
          }
        },
        "e368a2215fe74e319e5d94c2e2baab96": {
          "model_module": "@jupyter-widgets/base",
          "model_name": "LayoutModel",
          "state": {
            "_view_name": "LayoutView",
            "grid_template_rows": null,
            "right": null,
            "justify_content": null,
            "_view_module": "@jupyter-widgets/base",
            "overflow": null,
            "_model_module_version": "1.2.0",
            "_view_count": null,
            "flex_flow": null,
            "width": null,
            "min_width": null,
            "border": null,
            "align_items": null,
            "bottom": null,
            "_model_module": "@jupyter-widgets/base",
            "top": null,
            "grid_column": null,
            "overflow_y": null,
            "overflow_x": null,
            "grid_auto_flow": null,
            "grid_area": null,
            "grid_template_columns": null,
            "flex": null,
            "_model_name": "LayoutModel",
            "justify_items": null,
            "grid_row": null,
            "max_height": null,
            "align_content": null,
            "visibility": null,
            "align_self": null,
            "height": null,
            "min_height": null,
            "padding": null,
            "grid_auto_rows": null,
            "grid_gap": null,
            "max_width": null,
            "order": null,
            "_view_module_version": "1.2.0",
            "grid_template_areas": null,
            "object_position": null,
            "object_fit": null,
            "grid_auto_columns": null,
            "margin": null,
            "display": null,
            "left": null
          }
        },
        "17f134a3a18047a6b9b9780113070540": {
          "model_module": "@jupyter-widgets/controls",
          "model_name": "DescriptionStyleModel",
          "state": {
            "_view_name": "StyleView",
            "_model_name": "DescriptionStyleModel",
            "description_width": "",
            "_view_module": "@jupyter-widgets/base",
            "_model_module_version": "1.5.0",
            "_view_count": null,
            "_view_module_version": "1.2.0",
            "_model_module": "@jupyter-widgets/controls"
          }
        },
        "26a6baec90d4486f87076f2a56b752e9": {
          "model_module": "@jupyter-widgets/base",
          "model_name": "LayoutModel",
          "state": {
            "_view_name": "LayoutView",
            "grid_template_rows": null,
            "right": null,
            "justify_content": null,
            "_view_module": "@jupyter-widgets/base",
            "overflow": null,
            "_model_module_version": "1.2.0",
            "_view_count": null,
            "flex_flow": null,
            "width": null,
            "min_width": null,
            "border": null,
            "align_items": null,
            "bottom": null,
            "_model_module": "@jupyter-widgets/base",
            "top": null,
            "grid_column": null,
            "overflow_y": null,
            "overflow_x": null,
            "grid_auto_flow": null,
            "grid_area": null,
            "grid_template_columns": null,
            "flex": null,
            "_model_name": "LayoutModel",
            "justify_items": null,
            "grid_row": null,
            "max_height": null,
            "align_content": null,
            "visibility": null,
            "align_self": null,
            "height": null,
            "min_height": null,
            "padding": null,
            "grid_auto_rows": null,
            "grid_gap": null,
            "max_width": null,
            "order": null,
            "_view_module_version": "1.2.0",
            "grid_template_areas": null,
            "object_position": null,
            "object_fit": null,
            "grid_auto_columns": null,
            "margin": null,
            "display": null,
            "left": null
          }
        },
        "0303c54b3f1443dba4d5403d1dd8ad16": {
          "model_module": "@jupyter-widgets/controls",
          "model_name": "HBoxModel",
          "state": {
            "_view_name": "HBoxView",
            "_dom_classes": [],
            "_model_name": "HBoxModel",
            "_view_module": "@jupyter-widgets/controls",
            "_model_module_version": "1.5.0",
            "_view_count": null,
            "_view_module_version": "1.5.0",
            "box_style": "",
            "layout": "IPY_MODEL_0f9409d500914c8e9b28f18819cfa8f2",
            "_model_module": "@jupyter-widgets/controls",
            "children": [
              "IPY_MODEL_ab631eed7dc141c68f3ea27a7f9968f3",
              "IPY_MODEL_9a7daa72dc1d42d58e3c5f03765eb7f8"
            ]
          }
        },
        "0f9409d500914c8e9b28f18819cfa8f2": {
          "model_module": "@jupyter-widgets/base",
          "model_name": "LayoutModel",
          "state": {
            "_view_name": "LayoutView",
            "grid_template_rows": null,
            "right": null,
            "justify_content": null,
            "_view_module": "@jupyter-widgets/base",
            "overflow": null,
            "_model_module_version": "1.2.0",
            "_view_count": null,
            "flex_flow": null,
            "width": null,
            "min_width": null,
            "border": null,
            "align_items": null,
            "bottom": null,
            "_model_module": "@jupyter-widgets/base",
            "top": null,
            "grid_column": null,
            "overflow_y": null,
            "overflow_x": null,
            "grid_auto_flow": null,
            "grid_area": null,
            "grid_template_columns": null,
            "flex": null,
            "_model_name": "LayoutModel",
            "justify_items": null,
            "grid_row": null,
            "max_height": null,
            "align_content": null,
            "visibility": null,
            "align_self": null,
            "height": null,
            "min_height": null,
            "padding": null,
            "grid_auto_rows": null,
            "grid_gap": null,
            "max_width": null,
            "order": null,
            "_view_module_version": "1.2.0",
            "grid_template_areas": null,
            "object_position": null,
            "object_fit": null,
            "grid_auto_columns": null,
            "margin": null,
            "display": null,
            "left": null
          }
        },
        "ab631eed7dc141c68f3ea27a7f9968f3": {
          "model_module": "@jupyter-widgets/controls",
          "model_name": "FloatProgressModel",
          "state": {
            "_view_name": "ProgressView",
            "style": "IPY_MODEL_81fe3bd982f04e41a3ff1c7974256aeb",
            "_dom_classes": [],
            "description": "Downloading: 100%",
            "_model_name": "FloatProgressModel",
            "bar_style": "success",
            "max": 363423424,
            "_view_module": "@jupyter-widgets/controls",
            "_model_module_version": "1.5.0",
            "value": 363423424,
            "_view_count": null,
            "_view_module_version": "1.5.0",
            "orientation": "horizontal",
            "min": 0,
            "description_tooltip": null,
            "_model_module": "@jupyter-widgets/controls",
            "layout": "IPY_MODEL_62a60aa10ef74fb996bcbb4df7723224"
          }
        },
        "9a7daa72dc1d42d58e3c5f03765eb7f8": {
          "model_module": "@jupyter-widgets/controls",
          "model_name": "HTMLModel",
          "state": {
            "_view_name": "HTMLView",
            "style": "IPY_MODEL_5af0b882a69a4e268400b6c086f5c19a",
            "_dom_classes": [],
            "description": "",
            "_model_name": "HTMLModel",
            "placeholder": "​",
            "_view_module": "@jupyter-widgets/controls",
            "_model_module_version": "1.5.0",
            "value": " 363M/363M [00:07&lt;00:00, 48.6MB/s]",
            "_view_count": null,
            "_view_module_version": "1.5.0",
            "description_tooltip": null,
            "_model_module": "@jupyter-widgets/controls",
            "layout": "IPY_MODEL_bc192481fa824ab0b4bbe9f9ee9ee68c"
          }
        },
        "81fe3bd982f04e41a3ff1c7974256aeb": {
          "model_module": "@jupyter-widgets/controls",
          "model_name": "ProgressStyleModel",
          "state": {
            "_view_name": "StyleView",
            "_model_name": "ProgressStyleModel",
            "description_width": "initial",
            "_view_module": "@jupyter-widgets/base",
            "_model_module_version": "1.5.0",
            "_view_count": null,
            "_view_module_version": "1.2.0",
            "bar_color": null,
            "_model_module": "@jupyter-widgets/controls"
          }
        },
        "62a60aa10ef74fb996bcbb4df7723224": {
          "model_module": "@jupyter-widgets/base",
          "model_name": "LayoutModel",
          "state": {
            "_view_name": "LayoutView",
            "grid_template_rows": null,
            "right": null,
            "justify_content": null,
            "_view_module": "@jupyter-widgets/base",
            "overflow": null,
            "_model_module_version": "1.2.0",
            "_view_count": null,
            "flex_flow": null,
            "width": null,
            "min_width": null,
            "border": null,
            "align_items": null,
            "bottom": null,
            "_model_module": "@jupyter-widgets/base",
            "top": null,
            "grid_column": null,
            "overflow_y": null,
            "overflow_x": null,
            "grid_auto_flow": null,
            "grid_area": null,
            "grid_template_columns": null,
            "flex": null,
            "_model_name": "LayoutModel",
            "justify_items": null,
            "grid_row": null,
            "max_height": null,
            "align_content": null,
            "visibility": null,
            "align_self": null,
            "height": null,
            "min_height": null,
            "padding": null,
            "grid_auto_rows": null,
            "grid_gap": null,
            "max_width": null,
            "order": null,
            "_view_module_version": "1.2.0",
            "grid_template_areas": null,
            "object_position": null,
            "object_fit": null,
            "grid_auto_columns": null,
            "margin": null,
            "display": null,
            "left": null
          }
        },
        "5af0b882a69a4e268400b6c086f5c19a": {
          "model_module": "@jupyter-widgets/controls",
          "model_name": "DescriptionStyleModel",
          "state": {
            "_view_name": "StyleView",
            "_model_name": "DescriptionStyleModel",
            "description_width": "",
            "_view_module": "@jupyter-widgets/base",
            "_model_module_version": "1.5.0",
            "_view_count": null,
            "_view_module_version": "1.2.0",
            "_model_module": "@jupyter-widgets/controls"
          }
        },
        "bc192481fa824ab0b4bbe9f9ee9ee68c": {
          "model_module": "@jupyter-widgets/base",
          "model_name": "LayoutModel",
          "state": {
            "_view_name": "LayoutView",
            "grid_template_rows": null,
            "right": null,
            "justify_content": null,
            "_view_module": "@jupyter-widgets/base",
            "overflow": null,
            "_model_module_version": "1.2.0",
            "_view_count": null,
            "flex_flow": null,
            "width": null,
            "min_width": null,
            "border": null,
            "align_items": null,
            "bottom": null,
            "_model_module": "@jupyter-widgets/base",
            "top": null,
            "grid_column": null,
            "overflow_y": null,
            "overflow_x": null,
            "grid_auto_flow": null,
            "grid_area": null,
            "grid_template_columns": null,
            "flex": null,
            "_model_name": "LayoutModel",
            "justify_items": null,
            "grid_row": null,
            "max_height": null,
            "align_content": null,
            "visibility": null,
            "align_self": null,
            "height": null,
            "min_height": null,
            "padding": null,
            "grid_auto_rows": null,
            "grid_gap": null,
            "max_width": null,
            "order": null,
            "_view_module_version": "1.2.0",
            "grid_template_areas": null,
            "object_position": null,
            "object_fit": null,
            "grid_auto_columns": null,
            "margin": null,
            "display": null,
            "left": null
          }
        }
      }
    }
  },
  "cells": [
    {
      "cell_type": "markdown",
      "metadata": {
        "id": "view-in-github",
        "colab_type": "text"
      },
      "source": [
        "<a href=\"https://colab.research.google.com/github/MUHAMMADALYAN/fiver/blob/main/Panic_using_Bert.ipynb\" target=\"_parent\"><img src=\"https://colab.research.google.com/assets/colab-badge.svg\" alt=\"Open In Colab\"/></a>"
      ]
    },
    {
      "cell_type": "markdown",
      "metadata": {
        "id": "1CAaKSIgPX0O"
      },
      "source": [
        "# Using Bert to extract embedding and then feeding it in other NN model\n",
        "#####https://swatimeena989.medium.com/bert-text-classification-using-keras-903671e0207d#da09\n",
        "#####https://colab.research.google.com/github/jalammar/jalammar.github.io/blob/master/notebooks/bert/A_Visual_Notebook_to_Using_BERT_for_the_First_Time.ipynb#scrollTo=iCoyxRJ7ECTA\n",
        "#####https://towardsdatascience.com/working-with-hugging-face-transformers-and-tf-2-0-89bf35e3555a\n"
      ]
    },
    {
      "cell_type": "code",
      "metadata": {
        "id": "oEmm2iQ7rNXF"
      },
      "source": [
        "from google.colab import drive\n",
        "drive.mount('/content/drive')\n",
        "\n",
        "import nltk\n",
        "nltk.download('stopwords')\n",
        "\n",
        "#installing transformers for using bert\n",
        "!pip install transformers\n",
        "!pip install tqdm"
      ],
      "execution_count": null,
      "outputs": []
    },
    {
      "cell_type": "code",
      "metadata": {
        "id": "DY8C2B_jUyZ4"
      },
      "source": [
        "import numpy as np\n",
        "import pandas as pd\n",
        "from collections import Counter\n",
        "from nltk.corpus import stopwords\n",
        "import csv, pickle\n",
        "from tensorflow.keras.preprocessing.text import Tokenizer\n",
        "from tensorflow.keras.preprocessing.sequence import pad_sequences\n",
        "from tensorflow.keras.models import Sequential\n",
        "from tensorflow.keras.layers import LSTM, Dense, Embedding, Input, Conv1D\n",
        "from tensorflow.keras.optimizers import Adam\n",
        "from tensorflow.keras.initializers import Constant\n",
        "from tensorflow.keras.models import load_model"
      ],
      "execution_count": null,
      "outputs": []
    },
    {
      "cell_type": "markdown",
      "metadata": {
        "id": "8Sg35iJUUyZ8"
      },
      "source": [
        "## Utility Fucntions"
      ]
    },
    {
      "cell_type": "code",
      "metadata": {
        "id": "9K9Ta0fEUyZ9"
      },
      "source": [
        "def load_data(path):\n",
        "    with open(path, 'r') as f:\n",
        "      tsv_reader = csv.reader(f, delimiter='\\t')\n",
        "      try:\n",
        "       data = [ (row[0], row[1]) for row in tsv_reader ]\n",
        "       data=np.array(data)\n",
        "      except IndexError as ie:\n",
        "        print(ie)\n",
        "        data = []\n",
        "    return data  \n",
        "\n",
        "def filter_func(temp):\n",
        "    \n",
        "    stop = set(stopwords.words(\"english\"))\n",
        "    \n",
        "    temp = temp.lower()\n",
        "    temp = temp.split()\n",
        "    temp = [\n",
        "        element\n",
        "        for element in temp\n",
        "        if element not in stop\n",
        "    ]\n",
        "    return temp\n",
        "\n",
        "filter_func = np.vectorize(filter_func, otypes=[list])    \n",
        "\n",
        "\n",
        "def shuffle(features, labels):\n",
        "    \n",
        "    assert labels.shape[0] == features.shape[0]\n",
        "\n",
        "    idx = np.arange(labels.shape[0])\n",
        "    np.random.shuffle(idx)\n",
        "    \n",
        "    return features[idx], labels[idx]\n",
        "\n",
        "\n",
        "classes = ['purpose', 'craftsmaship', 'aesthetic',  \"none\"]\n",
        "\n",
        "def convert_labels(labels):\n",
        "    index = {\n",
        "        \"purpose\"      : [1, 0, 0, 0], \n",
        "        \"craftsmanship\": [0, 1, 0, 0],  \n",
        "        \"aesthetic\"    : [0, 0, 1, 0],\n",
        "        \"none\"         : [0, 0, 0, 1]        \n",
        "    }\n",
        "    return np.array([\n",
        "        index[e] \n",
        "        for e in labels\n",
        "    ])\n",
        "\n",
        "\n",
        "class_arr = np.array([\n",
        "    \"purpose\", \n",
        "    \"craftsmanship\", \n",
        "    \"aesthetic\",\n",
        "    \"none\"\n",
        "])\n",
        "def decode_onehot_labels(class_idx):\n",
        "    return class_arr[class_idx]"
      ],
      "execution_count": null,
      "outputs": []
    },
    {
      "cell_type": "markdown",
      "metadata": {
        "id": "1oTdokwiC7P-"
      },
      "source": [
        "## Loading and Preprocessing data"
      ]
    },
    {
      "cell_type": "code",
      "metadata": {
        "id": "CZ1UVxGYI9-L"
      },
      "source": [
        "path = \"/content/drive/MyDrive/Training-Data-11-27-2020.tsv\"\n",
        "#Loading the data from csv file\n",
        "df = load_data(path)\n",
        "print (df)\n",
        "labels   = df[:,0]\n",
        "features = df[:,1]\n",
        "\n",
        "#Cleaning stop words and converting to lists\n",
        "features = filter_func(features)\n",
        "print(features.shape)\n",
        "\n",
        "#shuffling the data\n",
        "rand_features, rand_labels = shuffle(features, labels)\n",
        "print(rand_labels)\n",
        "\n",
        "#One hot encoding Labels\n",
        "encoded_rand_labels=convert_labels(rand_labels)\n",
        "print(encoded_rand_labels)\n",
        "\n"
      ],
      "execution_count": null,
      "outputs": []
    },
    {
      "cell_type": "markdown",
      "metadata": {
        "id": "_fI1pJRyrglX"
      },
      "source": [
        "# Defining Toxenizer of Transformers\n",
        "<img src=\"https://jalammar.github.io/images/distilBERT/bert-distilbert-tokenization-2-token-ids.png\" />\n",
        "\n",
        "### Padding\n",
        "After tokenization, `tokenized` is a list of sentences -- each sentences is represented as a list of tokens. We want BERT to process our examples all at once (as one batch). It's just faster that way. For that reason, we need to pad all lists to the same size, so we can represent the input as one 2-d array, rather than a list of lists (of different lengths).\n"
      ]
    },
    {
      "cell_type": "code",
      "metadata": {
        "colab": {
          "base_uri": "https://localhost:8080/",
          "height": 164,
          "referenced_widgets": [
            "f220f97abacd4172bf9b90450315723b",
            "da0d5ce28504422a9bd43014b54bfa2e",
            "8203bcd8d4af4fe79049115f7596f5dd",
            "06c02e812f154f19b1e03262db1e8ec5",
            "1e11e207e7a44f4c938e69aec2e261c9",
            "743ffd0e2c7a4736afdcf86950dd86dc",
            "66db1d53a58c40eda60f431eab6ed628",
            "0e524a8817f946768b02c983439dd82a",
            "14d444a455364927be788409bd90fd7b",
            "f665789192064956986784d2bc064bc5",
            "bde89a4d3def4d5a850b98dac0df2d59",
            "88217457c8504a21a8fba989e867705e",
            "9dfebeddb3574e4f9c018edca2f007d9",
            "fa8543a46c7b4ccc960ba05ae6fed07e",
            "75c87abc0b8a40bd80f3ec8e43644b13",
            "d3e913613336424c9a35307741997b54",
            "09b4162e966243cd84c80d75d1c53d51",
            "b3bbffc7f84043f48154047d8f8fea02",
            "6b024bef491e4a3395bdc3979543bb3e",
            "5ac1c446fbd848c08649b8fa60422a71",
            "6c0590dd9e1e4f3b80587933b946156e",
            "e368a2215fe74e319e5d94c2e2baab96",
            "17f134a3a18047a6b9b9780113070540",
            "26a6baec90d4486f87076f2a56b752e9"
          ]
        },
        "id": "6KgJqxSQrdcd",
        "outputId": "9fa3445c-1066-4179-fddb-34ab15706416"
      },
      "source": [
        "import transformers\n",
        "from transformers import DistilBertTokenizer\n",
        "distil_bert = 'distilbert-base-uncased' # Pick any desired pre-trained model\n",
        "\n",
        "# Defining DistilBERT tokonizer\n",
        "tokenizer = DistilBertTokenizer.from_pretrained(distil_bert, do_lower_case=True, add_special_tokens=True,\n",
        "                                                max_length=128, pad_to_max_length=True)\n",
        "\n",
        "def tokenize(sentences, tokenizer):\n",
        "    input_ids, input_masks= [],[]\n",
        "    for sentence in tqdm(sentences):\n",
        "        inputs = tokenizer.encode_plus(sentence, add_special_tokens=True, max_length=128, pad_to_max_length=True, \n",
        "                                             return_attention_mask=True, return_token_type_ids=True)\n",
        "        input_ids.append(inputs['input_ids'])\n",
        "        input_masks.append(inputs['attention_mask'])\n",
        "        #input_segments.append(inputs['token_type_ids'])            \n",
        "    return np.asarray(input_ids, dtype='int32'), np.asarray(input_masks, dtype='int32')"
      ],
      "execution_count": null,
      "outputs": [
        {
          "output_type": "display_data",
          "data": {
            "application/vnd.jupyter.widget-view+json": {
              "model_id": "f220f97abacd4172bf9b90450315723b",
              "version_minor": 0,
              "version_major": 2
            },
            "text/plain": [
              "HBox(children=(FloatProgress(value=0.0, description='Downloading', max=231508.0, style=ProgressStyle(descripti…"
            ]
          },
          "metadata": {
            "tags": []
          }
        },
        {
          "output_type": "stream",
          "text": [
            "\n"
          ],
          "name": "stdout"
        },
        {
          "output_type": "display_data",
          "data": {
            "application/vnd.jupyter.widget-view+json": {
              "model_id": "14d444a455364927be788409bd90fd7b",
              "version_minor": 0,
              "version_major": 2
            },
            "text/plain": [
              "HBox(children=(FloatProgress(value=0.0, description='Downloading', max=28.0, style=ProgressStyle(description_w…"
            ]
          },
          "metadata": {
            "tags": []
          }
        },
        {
          "output_type": "stream",
          "text": [
            "\n"
          ],
          "name": "stdout"
        },
        {
          "output_type": "display_data",
          "data": {
            "application/vnd.jupyter.widget-view+json": {
              "model_id": "09b4162e966243cd84c80d75d1c53d51",
              "version_minor": 0,
              "version_major": 2
            },
            "text/plain": [
              "HBox(children=(FloatProgress(value=0.0, description='Downloading', max=466062.0, style=ProgressStyle(descripti…"
            ]
          },
          "metadata": {
            "tags": []
          }
        },
        {
          "output_type": "stream",
          "text": [
            "\n"
          ],
          "name": "stdout"
        }
      ]
    },
    {
      "cell_type": "markdown",
      "metadata": {
        "id": "b_k6s5HRWqeI"
      },
      "source": [
        "### Toxenizing Features \n",
        "The **input ids** are often the only required parameters to be passed to the model as input. They are token indices, numerical representations of tokens building the sequences that will be used as input by the model. \n",
        "\n",
        "**Mask** to avoid performing attention on padding token indices. Mask values selected in [0, 1]: 1 for tokens that are not masked, 0 for tokens that are marked (0 if the token is added by padding).If we have 2 sentences and the sequence length of one sentence is 8 and another one is 10, then we need to make them of equal length and for that, padding is required. To distinguish between the padded and nonpadded input attention mask is used. "
      ]
    },
    {
      "cell_type": "code",
      "metadata": {
        "colab": {
          "base_uri": "https://localhost:8080/"
        },
        "id": "_eE_lb3bcmLa",
        "outputId": "a20462f5-6a6b-499c-c755-25f9a7ae5d5f"
      },
      "source": [
        "from tqdm import tqdm\n",
        "tok_features=tokenize(rand_features,tokenizer)\n",
        "print(tok_features)\n",
        "\n",
        "input_ids_in=(tok_features[0])\n",
        "input_masks_in=(tok_features[1])\n",
        "print(input_ids_in.shape)\n",
        "print(input_masks_in.shape)"
      ],
      "execution_count": null,
      "outputs": [
        {
          "output_type": "stream",
          "text": [
            "  0%|          | 0/1059 [00:00<?, ?it/s]Truncation was not explicitly activated but `max_length` is provided a specific value, please use `truncation=True` to explicitly truncate examples to max length. Defaulting to 'longest_first' truncation strategy. If you encode pairs of sequences (GLUE-style) with the tokenizer you can select this strategy more precisely by providing a specific strategy to `truncation`.\n",
            "/usr/local/lib/python3.7/dist-packages/transformers/tokenization_utils_base.py:2074: FutureWarning: The `pad_to_max_length` argument is deprecated and will be removed in a future version, use `padding=True` or `padding='longest'` to pad to the longest sequence in the batch, or use `padding='max_length'` to pad to a max length. In this case, you can give a specific length with `max_length` (e.g. `max_length=45`) or leave max_length to None to pad to the maximal input size of the model (e.g. 512 for Bert).\n",
            "  FutureWarning,\n",
            "100%|██████████| 1059/1059 [00:00<00:00, 8992.05it/s]"
          ],
          "name": "stderr"
        },
        {
          "output_type": "stream",
          "text": [
            "(array([[  101,  7300,  9585, ...,     0,     0,     0],\n",
            "       [  101,  2393,  6304, ...,     0,     0,     0],\n",
            "       [  101,  2328,   100, ...,     0,     0,     0],\n",
            "       ...,\n",
            "       [  101,  7532,  8484, ...,     0,     0,     0],\n",
            "       [  101,  2124, 18988, ...,     0,     0,     0],\n",
            "       [  101, 14765,   100, ...,     0,     0,     0]], dtype=int32), array([[1, 1, 1, ..., 0, 0, 0],\n",
            "       [1, 1, 1, ..., 0, 0, 0],\n",
            "       [1, 1, 1, ..., 0, 0, 0],\n",
            "       ...,\n",
            "       [1, 1, 1, ..., 0, 0, 0],\n",
            "       [1, 1, 1, ..., 0, 0, 0],\n",
            "       [1, 1, 1, ..., 0, 0, 0]], dtype=int32))\n",
            "(1059, 128)\n",
            "(1059, 128)\n"
          ],
          "name": "stdout"
        },
        {
          "output_type": "stream",
          "text": [
            "\n"
          ],
          "name": "stderr"
        }
      ]
    },
    {
      "cell_type": "markdown",
      "metadata": {
        "id": "8MGzIUdvXZbF"
      },
      "source": [
        "### Getting Embeddings for all features to feed it as input to other model \n",
        "## Model #1\n",
        "Now that we have our model and inputs ready, let's run our model!\n",
        "\n",
        "<img src=\"https://jalammar.github.io/images/distilBERT/bert-distilbert-tutorial-sentence-embedding.png\" />\n",
        "\n",
        "The results of the processing will be returned into `last_hidden_states`."
      ]
    },
    {
      "cell_type": "markdown",
      "metadata": {
        "id": "RrgfB51oVp2i"
      },
      "source": [
        "**Let's slice only the part of the output that we need. That is the output corresponding the first token of each sentence. The way BERT does sentence classification, is that it adds a token called `[CLS]` (for classification) at the beginning of every sentence. The output corresponding to that token can be thought of as an embedding for the entire sentence.**\n",
        "\n",
        "<img src=\"https://jalammar.github.io/images/distilBERT/bert-output-tensor-selection.png\" />\n"
      ]
    },
    {
      "cell_type": "code",
      "metadata": {
        "colab": {
          "base_uri": "https://localhost:8080/",
          "height": 171,
          "referenced_widgets": [
            "0303c54b3f1443dba4d5403d1dd8ad16",
            "0f9409d500914c8e9b28f18819cfa8f2",
            "ab631eed7dc141c68f3ea27a7f9968f3",
            "9a7daa72dc1d42d58e3c5f03765eb7f8",
            "81fe3bd982f04e41a3ff1c7974256aeb",
            "62a60aa10ef74fb996bcbb4df7723224",
            "5af0b882a69a4e268400b6c086f5c19a",
            "bc192481fa824ab0b4bbe9f9ee9ee68c"
          ]
        },
        "id": "ctZ3GnBme-Tf",
        "outputId": "43080357-9093-48f5-f6a2-8e01f0ae02f6"
      },
      "source": [
        "from transformers import TFDistilBertForSequenceClassification, DistilBertConfig,TFDistilBertModel\n",
        "import tensorflow as tf\n",
        "distil_bert = 'distilbert-base-uncased'\n",
        "\n",
        "config = DistilBertConfig(dropout=0.2, attention_dropout=0.2)\n",
        "config.output_hidden_states = False\n",
        "transformer_model = TFDistilBertModel.from_pretrained(distil_bert, config = config)\n",
        "\n",
        "#input_ids_in = tf.keras.layers.Input(shape=(128,), name='input_token', dtype='int32')\n",
        "#input_masks_in = tf.keras.layers.Input(shape=(128,), name='masked_token', dtype='int32') \n",
        "\n",
        "embedding_layer = transformer_model(input_ids_in, attention_mask=input_masks_in)[0]\n",
        "cls_token = embedding_layer[:,0,:]"
      ],
      "execution_count": null,
      "outputs": [
        {
          "output_type": "display_data",
          "data": {
            "application/vnd.jupyter.widget-view+json": {
              "model_id": "0303c54b3f1443dba4d5403d1dd8ad16",
              "version_minor": 0,
              "version_major": 2
            },
            "text/plain": [
              "HBox(children=(FloatProgress(value=0.0, description='Downloading', max=363423424.0, style=ProgressStyle(descri…"
            ]
          },
          "metadata": {
            "tags": []
          }
        },
        {
          "output_type": "stream",
          "text": [
            "\n"
          ],
          "name": "stdout"
        },
        {
          "output_type": "stream",
          "text": [
            "Some layers from the model checkpoint at distilbert-base-uncased were not used when initializing TFDistilBertModel: ['vocab_transform', 'vocab_projector', 'vocab_layer_norm', 'activation_13']\n",
            "- This IS expected if you are initializing TFDistilBertModel from the checkpoint of a model trained on another task or with another architecture (e.g. initializing a BertForSequenceClassification model from a BertForPreTraining model).\n",
            "- This IS NOT expected if you are initializing TFDistilBertModel from the checkpoint of a model that you expect to be exactly identical (initializing a BertForSequenceClassification model from a BertForSequenceClassification model).\n",
            "All the layers of TFDistilBertModel were initialized from the model checkpoint at distilbert-base-uncased.\n",
            "If your task is similar to the task the model of the checkpoint was trained on, you can already use TFDistilBertModel for predictions without further training.\n"
          ],
          "name": "stderr"
        }
      ]
    },
    {
      "cell_type": "markdown",
      "metadata": {
        "id": "svUWx-ELXoxO"
      },
      "source": [
        "## Splitting Data for Second model\n",
        "<img src=\"https://jalammar.github.io/images/distilBERT/bert-distilbert-train-test-split-sentence-embedding.png\" />\n"
      ]
    },
    {
      "cell_type": "code",
      "metadata": {
        "colab": {
          "base_uri": "https://localhost:8080/"
        },
        "id": "dfKC8Ivlfk9Z",
        "outputId": "eb06243e-d9d4-495c-92c6-7d3144f38538"
      },
      "source": [
        "#We will use embedding from Bert as input features to other model\n",
        "print(cls_token.shape)\n",
        "total_samples = len(cls_token)\n",
        "#print(total_samples)\n",
        "#Train Test Split\n",
        "ratio = 0.87\n",
        "val_mark  = int(total_samples*ratio)\n",
        "test_mark=int(total_samples*0.98)\n",
        "\n",
        "\n",
        "\n",
        "train_features = np.asarray(cls_token[:val_mark])\n",
        "train_labels=encoded_rand_labels[:val_mark]\n",
        "print(train_features)\n",
        "print(cls_token)\n",
        "\n",
        "val_features  = np.asarray(cls_token[val_mark:test_mark])\n",
        "val_labels = encoded_rand_labels[val_mark:test_mark]\n",
        "#print(val_features)\n",
        "\n",
        "test_features = np.asarray(cls_token[test_mark:])\n",
        "test_labels = encoded_rand_labels[test_mark:]\n",
        "original_test_labels=rand_labels[test_mark:]\n",
        "#print(test_labels)\n",
        "#print(original_test_labels)\n"
      ],
      "execution_count": null,
      "outputs": [
        {
          "output_type": "stream",
          "text": [
            "(1059, 768)\n",
            "[[-0.2844678   0.08227374 -0.19027302 ... -0.317325    0.11170392\n",
            "   0.20326506]\n",
            " [-0.08178805 -0.02576161 -0.03211171 ... -0.16566768  0.02322792\n",
            "   0.27454975]\n",
            " [-0.08278984  0.02108359 -0.13220853 ... -0.3322408   0.11657318\n",
            "   0.11999294]\n",
            " ...\n",
            " [-0.1149189   0.05291975 -0.059462   ... -0.31898195  0.18091318\n",
            "  -0.08762738]\n",
            " [-0.24155143 -0.01859026 -0.06468798 ... -0.00379901  0.23170471\n",
            "   0.2788089 ]\n",
            " [-0.00192876 -0.11716301  0.02051013 ... -0.18525699  0.17342728\n",
            "   0.18416119]]\n",
            "tf.Tensor(\n",
            "[[-0.2844678   0.08227374 -0.19027302 ... -0.317325    0.11170392\n",
            "   0.20326506]\n",
            " [-0.08178805 -0.02576161 -0.03211171 ... -0.16566768  0.02322792\n",
            "   0.27454975]\n",
            " [-0.08278984  0.02108359 -0.13220853 ... -0.3322408   0.11657318\n",
            "   0.11999294]\n",
            " ...\n",
            " [-0.12060156 -0.03479057 -0.04573926 ... -0.33136258  0.3143413\n",
            "   0.01917091]\n",
            " [-0.09354535 -0.10652342 -0.15274861 ... -0.27696928  0.12599908\n",
            "   0.08982962]\n",
            " [-0.13744438 -0.10593168 -0.20012853 ... -0.2601247   0.15391885\n",
            "   0.18515359]], shape=(1059, 768), dtype=float32)\n"
          ],
          "name": "stdout"
        }
      ]
    },
    {
      "cell_type": "markdown",
      "metadata": {
        "id": "tVcVyJZGWPHs"
      },
      "source": [
        "<img src=\"https://jalammar.github.io/images/distilBERT/bert-training-logistic-regression.png\" />\n",
        "\n",
        "**I have used NN for better results.**"
      ]
    },
    {
      "cell_type": "code",
      "metadata": {
        "id": "WM6RzGlY3x-S"
      },
      "source": [
        "import tensorflow as tf\n",
        "import tensorflow.keras as keras\n",
        "from tensorflow.keras.models import Sequential\n",
        "from tensorflow.keras.layers import InputLayer,BatchNormalization,Dropout\n",
        "\n",
        "model = Sequential()\n",
        "\n",
        "model.add(BatchNormalization())\n",
        "model.add(Dense(192, activation='relu'))\n",
        "model.add(Dropout(0.2))\n",
        "model.add(Dense(4, activation='softmax'))\n",
        "model.compile(optimizer=Adam(0.0001), loss='categorical_crossentropy', metrics=['accuracy'])"
      ],
      "execution_count": null,
      "outputs": []
    },
    {
      "cell_type": "code",
      "metadata": {
        "colab": {
          "base_uri": "https://localhost:8080/"
        },
        "id": "41zcMa0931bV",
        "outputId": "01bbb1ad-fe4d-4b4a-cdfb-2325af65f644"
      },
      "source": [
        "checkpoint_path='model{epoch:02d}.h5'\n",
        "checkpoint = tf.keras.callbacks.ModelCheckpoint(filepath='/content/drive/MyDrive/models/'+checkpoint_path, monitor='val_accuracy', save_best_only=True, verbose=1)\n",
        "#earlystopping = tf.keras.callbacks.EarlyStopping(monitor='val_accuracy', patience=5, verbose=1)\n",
        "callbacks=[checkpoint]\n",
        "history=model.fit(train_features,train_labels,epochs=60, validation_data=(val_features, val_labels),callbacks=callbacks)\n",
        "model.summary()"
      ],
      "execution_count": null,
      "outputs": [
        {
          "output_type": "stream",
          "text": [
            "Epoch 1/60\n",
            "29/29 [==============================] - 1s 16ms/step - loss: 1.7356 - accuracy: 0.2888 - val_loss: 1.2587 - val_accuracy: 0.4655\n",
            "\n",
            "Epoch 00001: val_accuracy improved from -inf to 0.46552, saving model to /content/drive/MyDrive/models/model01.h5\n",
            "Epoch 2/60\n",
            "29/29 [==============================] - 0s 7ms/step - loss: 0.8066 - accuracy: 0.6677 - val_loss: 1.1142 - val_accuracy: 0.4741\n",
            "\n",
            "Epoch 00002: val_accuracy improved from 0.46552 to 0.47414, saving model to /content/drive/MyDrive/models/model02.h5\n",
            "Epoch 3/60\n",
            "29/29 [==============================] - 0s 7ms/step - loss: 0.5987 - accuracy: 0.7746 - val_loss: 1.0110 - val_accuracy: 0.5690\n",
            "\n",
            "Epoch 00003: val_accuracy improved from 0.47414 to 0.56897, saving model to /content/drive/MyDrive/models/model03.h5\n",
            "Epoch 4/60\n",
            "29/29 [==============================] - 0s 7ms/step - loss: 0.5219 - accuracy: 0.8140 - val_loss: 0.9166 - val_accuracy: 0.6638\n",
            "\n",
            "Epoch 00004: val_accuracy improved from 0.56897 to 0.66379, saving model to /content/drive/MyDrive/models/model04.h5\n",
            "Epoch 5/60\n",
            "29/29 [==============================] - 0s 6ms/step - loss: 0.4212 - accuracy: 0.8459 - val_loss: 0.8335 - val_accuracy: 0.7759\n",
            "\n",
            "Epoch 00005: val_accuracy improved from 0.66379 to 0.77586, saving model to /content/drive/MyDrive/models/model05.h5\n",
            "Epoch 6/60\n",
            "29/29 [==============================] - 0s 6ms/step - loss: 0.4058 - accuracy: 0.8422 - val_loss: 0.7556 - val_accuracy: 0.7845\n",
            "\n",
            "Epoch 00006: val_accuracy improved from 0.77586 to 0.78448, saving model to /content/drive/MyDrive/models/model06.h5\n",
            "Epoch 7/60\n",
            "29/29 [==============================] - 0s 6ms/step - loss: 0.4016 - accuracy: 0.8605 - val_loss: 0.6891 - val_accuracy: 0.7759\n",
            "\n",
            "Epoch 00007: val_accuracy did not improve from 0.78448\n",
            "Epoch 8/60\n",
            "29/29 [==============================] - 0s 7ms/step - loss: 0.3645 - accuracy: 0.8763 - val_loss: 0.6269 - val_accuracy: 0.7931\n",
            "\n",
            "Epoch 00008: val_accuracy improved from 0.78448 to 0.79310, saving model to /content/drive/MyDrive/models/model08.h5\n",
            "Epoch 9/60\n",
            "29/29 [==============================] - 0s 6ms/step - loss: 0.3611 - accuracy: 0.8707 - val_loss: 0.5760 - val_accuracy: 0.8190\n",
            "\n",
            "Epoch 00009: val_accuracy improved from 0.79310 to 0.81897, saving model to /content/drive/MyDrive/models/model09.h5\n",
            "Epoch 10/60\n",
            "29/29 [==============================] - 0s 6ms/step - loss: 0.3122 - accuracy: 0.9004 - val_loss: 0.5296 - val_accuracy: 0.8362\n",
            "\n",
            "Epoch 00010: val_accuracy improved from 0.81897 to 0.83621, saving model to /content/drive/MyDrive/models/model10.h5\n",
            "Epoch 11/60\n",
            "29/29 [==============================] - 0s 6ms/step - loss: 0.3038 - accuracy: 0.9024 - val_loss: 0.4995 - val_accuracy: 0.8362\n",
            "\n",
            "Epoch 00011: val_accuracy did not improve from 0.83621\n",
            "Epoch 12/60\n",
            "29/29 [==============================] - 0s 6ms/step - loss: 0.2467 - accuracy: 0.9171 - val_loss: 0.4793 - val_accuracy: 0.8362\n",
            "\n",
            "Epoch 00012: val_accuracy did not improve from 0.83621\n",
            "Epoch 13/60\n",
            "29/29 [==============================] - 0s 7ms/step - loss: 0.2297 - accuracy: 0.9208 - val_loss: 0.4607 - val_accuracy: 0.8448\n",
            "\n",
            "Epoch 00013: val_accuracy improved from 0.83621 to 0.84483, saving model to /content/drive/MyDrive/models/model13.h5\n",
            "Epoch 14/60\n",
            "29/29 [==============================] - 0s 6ms/step - loss: 0.2634 - accuracy: 0.9156 - val_loss: 0.4525 - val_accuracy: 0.8534\n",
            "\n",
            "Epoch 00014: val_accuracy improved from 0.84483 to 0.85345, saving model to /content/drive/MyDrive/models/model14.h5\n",
            "Epoch 15/60\n",
            "29/29 [==============================] - 0s 7ms/step - loss: 0.2339 - accuracy: 0.9314 - val_loss: 0.4460 - val_accuracy: 0.8448\n",
            "\n",
            "Epoch 00015: val_accuracy did not improve from 0.85345\n",
            "Epoch 16/60\n",
            "29/29 [==============================] - 0s 6ms/step - loss: 0.2444 - accuracy: 0.9198 - val_loss: 0.4396 - val_accuracy: 0.8534\n",
            "\n",
            "Epoch 00016: val_accuracy did not improve from 0.85345\n",
            "Epoch 17/60\n",
            "29/29 [==============================] - 0s 7ms/step - loss: 0.2156 - accuracy: 0.9384 - val_loss: 0.4399 - val_accuracy: 0.8534\n",
            "\n",
            "Epoch 00017: val_accuracy did not improve from 0.85345\n",
            "Epoch 18/60\n",
            "29/29 [==============================] - 0s 8ms/step - loss: 0.2235 - accuracy: 0.9359 - val_loss: 0.4441 - val_accuracy: 0.8534\n",
            "\n",
            "Epoch 00018: val_accuracy did not improve from 0.85345\n",
            "Epoch 19/60\n",
            "29/29 [==============================] - 0s 7ms/step - loss: 0.1952 - accuracy: 0.9385 - val_loss: 0.4415 - val_accuracy: 0.8362\n",
            "\n",
            "Epoch 00019: val_accuracy did not improve from 0.85345\n",
            "Epoch 20/60\n",
            "29/29 [==============================] - 0s 8ms/step - loss: 0.1893 - accuracy: 0.9408 - val_loss: 0.4489 - val_accuracy: 0.8362\n",
            "\n",
            "Epoch 00020: val_accuracy did not improve from 0.85345\n",
            "Epoch 21/60\n",
            "29/29 [==============================] - 0s 8ms/step - loss: 0.1955 - accuracy: 0.9340 - val_loss: 0.4482 - val_accuracy: 0.8534\n",
            "\n",
            "Epoch 00021: val_accuracy did not improve from 0.85345\n",
            "Epoch 22/60\n",
            "29/29 [==============================] - 0s 7ms/step - loss: 0.1697 - accuracy: 0.9531 - val_loss: 0.4437 - val_accuracy: 0.8534\n",
            "\n",
            "Epoch 00022: val_accuracy did not improve from 0.85345\n",
            "Epoch 23/60\n",
            "29/29 [==============================] - 0s 8ms/step - loss: 0.1529 - accuracy: 0.9496 - val_loss: 0.4591 - val_accuracy: 0.8534\n",
            "\n",
            "Epoch 00023: val_accuracy did not improve from 0.85345\n",
            "Epoch 24/60\n",
            "29/29 [==============================] - 0s 7ms/step - loss: 0.1446 - accuracy: 0.9522 - val_loss: 0.4508 - val_accuracy: 0.8534\n",
            "\n",
            "Epoch 00024: val_accuracy did not improve from 0.85345\n",
            "Epoch 25/60\n",
            "29/29 [==============================] - 0s 8ms/step - loss: 0.1451 - accuracy: 0.9580 - val_loss: 0.4483 - val_accuracy: 0.8534\n",
            "\n",
            "Epoch 00025: val_accuracy did not improve from 0.85345\n",
            "Epoch 26/60\n",
            "29/29 [==============================] - 0s 7ms/step - loss: 0.1489 - accuracy: 0.9608 - val_loss: 0.4446 - val_accuracy: 0.8621\n",
            "\n",
            "Epoch 00026: val_accuracy improved from 0.85345 to 0.86207, saving model to /content/drive/MyDrive/models/model26.h5\n",
            "Epoch 27/60\n",
            "29/29 [==============================] - 0s 6ms/step - loss: 0.1458 - accuracy: 0.9534 - val_loss: 0.4425 - val_accuracy: 0.8534\n",
            "\n",
            "Epoch 00027: val_accuracy did not improve from 0.86207\n",
            "Epoch 28/60\n",
            "29/29 [==============================] - 0s 6ms/step - loss: 0.1320 - accuracy: 0.9643 - val_loss: 0.4430 - val_accuracy: 0.8534\n",
            "\n",
            "Epoch 00028: val_accuracy did not improve from 0.86207\n",
            "Epoch 29/60\n",
            "29/29 [==============================] - 0s 6ms/step - loss: 0.1252 - accuracy: 0.9721 - val_loss: 0.4436 - val_accuracy: 0.8621\n",
            "\n",
            "Epoch 00029: val_accuracy did not improve from 0.86207\n",
            "Epoch 30/60\n",
            "29/29 [==============================] - 0s 6ms/step - loss: 0.1417 - accuracy: 0.9647 - val_loss: 0.4411 - val_accuracy: 0.8621\n",
            "\n",
            "Epoch 00030: val_accuracy did not improve from 0.86207\n",
            "Epoch 31/60\n",
            "29/29 [==============================] - 0s 6ms/step - loss: 0.1239 - accuracy: 0.9679 - val_loss: 0.4466 - val_accuracy: 0.8534\n",
            "\n",
            "Epoch 00031: val_accuracy did not improve from 0.86207\n",
            "Epoch 32/60\n",
            "29/29 [==============================] - 0s 8ms/step - loss: 0.1157 - accuracy: 0.9688 - val_loss: 0.4474 - val_accuracy: 0.8362\n",
            "\n",
            "Epoch 00032: val_accuracy did not improve from 0.86207\n",
            "Epoch 33/60\n",
            "29/29 [==============================] - 0s 8ms/step - loss: 0.1113 - accuracy: 0.9742 - val_loss: 0.4527 - val_accuracy: 0.8448\n",
            "\n",
            "Epoch 00033: val_accuracy did not improve from 0.86207\n",
            "Epoch 34/60\n",
            "29/29 [==============================] - 0s 8ms/step - loss: 0.1187 - accuracy: 0.9771 - val_loss: 0.4509 - val_accuracy: 0.8621\n",
            "\n",
            "Epoch 00034: val_accuracy did not improve from 0.86207\n",
            "Epoch 35/60\n",
            "29/29 [==============================] - 0s 8ms/step - loss: 0.0933 - accuracy: 0.9850 - val_loss: 0.4580 - val_accuracy: 0.8534\n",
            "\n",
            "Epoch 00035: val_accuracy did not improve from 0.86207\n",
            "Epoch 36/60\n",
            "29/29 [==============================] - 0s 9ms/step - loss: 0.1000 - accuracy: 0.9751 - val_loss: 0.4514 - val_accuracy: 0.8534\n",
            "\n",
            "Epoch 00036: val_accuracy did not improve from 0.86207\n",
            "Epoch 37/60\n",
            "29/29 [==============================] - 0s 8ms/step - loss: 0.1128 - accuracy: 0.9684 - val_loss: 0.4385 - val_accuracy: 0.8707\n",
            "\n",
            "Epoch 00037: val_accuracy improved from 0.86207 to 0.87069, saving model to /content/drive/MyDrive/models/model37.h5\n",
            "Epoch 38/60\n",
            "29/29 [==============================] - 0s 7ms/step - loss: 0.0947 - accuracy: 0.9760 - val_loss: 0.4414 - val_accuracy: 0.8621\n",
            "\n",
            "Epoch 00038: val_accuracy did not improve from 0.87069\n",
            "Epoch 39/60\n",
            "29/29 [==============================] - 0s 7ms/step - loss: 0.0868 - accuracy: 0.9857 - val_loss: 0.4467 - val_accuracy: 0.8621\n",
            "\n",
            "Epoch 00039: val_accuracy did not improve from 0.87069\n",
            "Epoch 40/60\n",
            "29/29 [==============================] - 0s 7ms/step - loss: 0.1072 - accuracy: 0.9582 - val_loss: 0.4533 - val_accuracy: 0.8621\n",
            "\n",
            "Epoch 00040: val_accuracy did not improve from 0.87069\n",
            "Epoch 41/60\n",
            "29/29 [==============================] - 0s 7ms/step - loss: 0.0754 - accuracy: 0.9851 - val_loss: 0.4510 - val_accuracy: 0.8621\n",
            "\n",
            "Epoch 00041: val_accuracy did not improve from 0.87069\n",
            "Epoch 42/60\n",
            "29/29 [==============================] - 0s 7ms/step - loss: 0.0743 - accuracy: 0.9896 - val_loss: 0.4480 - val_accuracy: 0.8707\n",
            "\n",
            "Epoch 00042: val_accuracy did not improve from 0.87069\n",
            "Epoch 43/60\n",
            "29/29 [==============================] - 0s 8ms/step - loss: 0.0795 - accuracy: 0.9852 - val_loss: 0.4607 - val_accuracy: 0.8621\n",
            "\n",
            "Epoch 00043: val_accuracy did not improve from 0.87069\n",
            "Epoch 44/60\n",
            "29/29 [==============================] - 0s 8ms/step - loss: 0.0917 - accuracy: 0.9731 - val_loss: 0.4656 - val_accuracy: 0.8621\n",
            "\n",
            "Epoch 00044: val_accuracy did not improve from 0.87069\n",
            "Epoch 45/60\n",
            "29/29 [==============================] - 0s 7ms/step - loss: 0.0797 - accuracy: 0.9745 - val_loss: 0.4506 - val_accuracy: 0.8621\n",
            "\n",
            "Epoch 00045: val_accuracy did not improve from 0.87069\n",
            "Epoch 46/60\n",
            "29/29 [==============================] - 0s 7ms/step - loss: 0.0613 - accuracy: 0.9948 - val_loss: 0.4531 - val_accuracy: 0.8621\n",
            "\n",
            "Epoch 00046: val_accuracy did not improve from 0.87069\n",
            "Epoch 47/60\n",
            "29/29 [==============================] - 0s 6ms/step - loss: 0.0746 - accuracy: 0.9876 - val_loss: 0.4653 - val_accuracy: 0.8621\n",
            "\n",
            "Epoch 00047: val_accuracy did not improve from 0.87069\n",
            "Epoch 48/60\n",
            "29/29 [==============================] - 0s 6ms/step - loss: 0.0689 - accuracy: 0.9895 - val_loss: 0.4651 - val_accuracy: 0.8621\n",
            "\n",
            "Epoch 00048: val_accuracy did not improve from 0.87069\n",
            "Epoch 49/60\n",
            "29/29 [==============================] - 0s 6ms/step - loss: 0.0682 - accuracy: 0.9840 - val_loss: 0.4671 - val_accuracy: 0.8621\n",
            "\n",
            "Epoch 00049: val_accuracy did not improve from 0.87069\n",
            "Epoch 50/60\n",
            "29/29 [==============================] - 0s 6ms/step - loss: 0.0666 - accuracy: 0.9813 - val_loss: 0.4676 - val_accuracy: 0.8621\n",
            "\n",
            "Epoch 00050: val_accuracy did not improve from 0.87069\n",
            "Epoch 51/60\n",
            "29/29 [==============================] - 0s 6ms/step - loss: 0.0760 - accuracy: 0.9839 - val_loss: 0.4601 - val_accuracy: 0.8534\n",
            "\n",
            "Epoch 00051: val_accuracy did not improve from 0.87069\n",
            "Epoch 52/60\n",
            "29/29 [==============================] - 0s 6ms/step - loss: 0.0723 - accuracy: 0.9798 - val_loss: 0.4633 - val_accuracy: 0.8621\n",
            "\n",
            "Epoch 00052: val_accuracy did not improve from 0.87069\n",
            "Epoch 53/60\n",
            "29/29 [==============================] - 0s 6ms/step - loss: 0.0633 - accuracy: 0.9919 - val_loss: 0.4686 - val_accuracy: 0.8621\n",
            "\n",
            "Epoch 00053: val_accuracy did not improve from 0.87069\n",
            "Epoch 54/60\n",
            "29/29 [==============================] - 0s 6ms/step - loss: 0.0620 - accuracy: 0.9872 - val_loss: 0.4689 - val_accuracy: 0.8534\n",
            "\n",
            "Epoch 00054: val_accuracy did not improve from 0.87069\n",
            "Epoch 55/60\n",
            "29/29 [==============================] - 0s 6ms/step - loss: 0.0471 - accuracy: 0.9955 - val_loss: 0.4748 - val_accuracy: 0.8448\n",
            "\n",
            "Epoch 00055: val_accuracy did not improve from 0.87069\n",
            "Epoch 56/60\n",
            "29/29 [==============================] - 0s 6ms/step - loss: 0.0595 - accuracy: 0.9895 - val_loss: 0.4833 - val_accuracy: 0.8448\n",
            "\n",
            "Epoch 00056: val_accuracy did not improve from 0.87069\n",
            "Epoch 57/60\n",
            "29/29 [==============================] - 0s 7ms/step - loss: 0.0610 - accuracy: 0.9859 - val_loss: 0.4862 - val_accuracy: 0.8621\n",
            "\n",
            "Epoch 00057: val_accuracy did not improve from 0.87069\n",
            "Epoch 58/60\n",
            "29/29 [==============================] - 0s 6ms/step - loss: 0.0522 - accuracy: 0.9882 - val_loss: 0.4838 - val_accuracy: 0.8621\n",
            "\n",
            "Epoch 00058: val_accuracy did not improve from 0.87069\n",
            "Epoch 59/60\n",
            "29/29 [==============================] - 0s 6ms/step - loss: 0.0659 - accuracy: 0.9954 - val_loss: 0.4797 - val_accuracy: 0.8621\n",
            "\n",
            "Epoch 00059: val_accuracy did not improve from 0.87069\n",
            "Epoch 60/60\n",
            "29/29 [==============================] - 0s 6ms/step - loss: 0.0534 - accuracy: 0.9942 - val_loss: 0.4830 - val_accuracy: 0.8534\n",
            "\n",
            "Epoch 00060: val_accuracy did not improve from 0.87069\n",
            "Model: \"sequential_1\"\n",
            "_________________________________________________________________\n",
            "Layer (type)                 Output Shape              Param #   \n",
            "=================================================================\n",
            "batch_normalization_1 (Batch (None, 768)               3072      \n",
            "_________________________________________________________________\n",
            "dense_2 (Dense)              (None, 192)               147648    \n",
            "_________________________________________________________________\n",
            "dropout_20 (Dropout)         (None, 192)               0         \n",
            "_________________________________________________________________\n",
            "dense_3 (Dense)              (None, 4)                 772       \n",
            "=================================================================\n",
            "Total params: 151,492\n",
            "Trainable params: 149,956\n",
            "Non-trainable params: 1,536\n",
            "_________________________________________________________________\n"
          ],
          "name": "stdout"
        }
      ]
    },
    {
      "cell_type": "markdown",
      "metadata": {
        "id": "hkZMg4cBlVSu"
      },
      "source": [
        "## Plotting accuracy and losses"
      ]
    },
    {
      "cell_type": "code",
      "metadata": {
        "colab": {
          "base_uri": "https://localhost:8080/",
          "height": 573
        },
        "id": "lCHA6SOxpojM",
        "outputId": "7cec1c56-1c9e-4633-afe0-ea40d28bfb51"
      },
      "source": [
        "import matplotlib.pyplot as plt\n",
        "# summarize history for accuracy\n",
        "epochs = range(len(history.history['accuracy']))\n",
        "plt.plot(epochs,history.history['accuracy'])\n",
        "\n",
        "plt.plot(epochs,history.history['val_accuracy'])\n",
        "plt.title('model accuracy')\n",
        "plt.ylabel('accuracy')\n",
        "plt.xlabel('epoch')\n",
        "plt.legend(['train', 'test'], loc='upper left')\n",
        "plt.show()\n",
        "# summarize history for loss\n",
        "plt.plot(epochs,history.history['loss'])\n",
        "plt.plot(epochs,history.history['val_loss'])\n",
        "plt.title('model loss')\n",
        "plt.ylabel('loss')\n",
        "plt.xlabel('epoch')\n",
        "\n",
        "plt.legend(['train', 'test'], loc='upper left')\n",
        "plt.show()"
      ],
      "execution_count": null,
      "outputs": [
        {
          "output_type": "display_data",
          "data": {
            "image/png": "[encoded data removed]",
            "text/plain": [
              "<Figure size 432x288 with 1 Axes>"
            ]
          },
          "metadata": {
            "tags": [],
            "needs_background": "light"
          }
        },
        {
          "output_type": "display_data",
          "data": {
            "image/png": "[encoded data removed]",
            "text/plain": [
              "<Figure size 432x288 with 1 Axes>"
            ]
          },
          "metadata": {
            "tags": [],
            "needs_background": "light"
          }
        }
      ]
    },
    {
      "cell_type": "markdown",
      "metadata": {
        "id": "oOXmt9iOlell"
      },
      "source": [
        "## Testing with test_data"
      ]
    },
    {
      "cell_type": "code",
      "metadata": {
        "colab": {
          "base_uri": "https://localhost:8080/"
        },
        "id": "9OXDjEqAlfT1",
        "outputId": "6e2592c8-b172-4ea5-cddf-ffcf55c50dcf"
      },
      "source": [
        "import tensorflow.math as tfmath\n",
        "import tensorflow.keras.backend as tfbackend\n",
        "\n",
        "model=tf.keras.models.load_model('/content/drive/MyDrive/models/model37.h5')\n",
        "a=model.predict(test_features)\n",
        "\n",
        "class_num = tfmath.argmax(a, axis= 1)\n",
        "print(class_num)\n",
        "\n",
        "eval_value = tfbackend.eval(class_num)\n",
        "print(\"class num eval===\",eval_value)\n",
        "\n",
        "labels = decode_onehot_labels(eval_value)\n",
        "print(\"labels\")\n",
        "print(original_test_labels,labels)\n"
      ],
      "execution_count": null,
      "outputs": [
        {
          "output_type": "stream",
          "text": [
            "tf.Tensor([0 0 2 3 0 1 3 0 1 1 1 2 0 0 0 1 0 2 2 0 1 0], shape=(22,), dtype=int64)\n",
            "class num eval=== [0 0 2 3 0 1 3 0 1 1 1 2 0 0 0 1 0 2 2 0 1 0]\n",
            "labels\n",
            "['purpose' 'purpose' 'aesthetic' 'none' 'craftsmanship' 'craftsmanship'\n",
            " 'none' 'purpose' 'craftsmanship' 'aesthetic' 'aesthetic' 'aesthetic'\n",
            " 'purpose' 'purpose' 'purpose' 'craftsmanship' 'purpose' 'craftsmanship'\n",
            " 'aesthetic' 'purpose' 'purpose' 'purpose'] ['purpose' 'purpose' 'aesthetic' 'none' 'purpose' 'craftsmanship' 'none'\n",
            " 'purpose' 'craftsmanship' 'craftsmanship' 'craftsmanship' 'aesthetic'\n",
            " 'purpose' 'purpose' 'purpose' 'craftsmanship' 'purpose' 'aesthetic'\n",
            " 'aesthetic' 'purpose' 'craftsmanship' 'purpose']\n"
          ],
          "name": "stdout"
        }
      ]
    },
    {
      "cell_type": "code",
      "metadata": {
        "id": "Q0wOPg86luuz"
      },
      "source": [
        "#Saving the tokenizer\n",
        "with open('/content/drive/MyDrive/models/tokenizer.pickle', 'wb') as handle:\n",
        "    pickle.dump(tokenizer, handle, protocol=pickle.HIGHEST_PROTOCOL)"
      ],
      "execution_count": null,
      "outputs": []
    },
    {
      "cell_type": "code",
      "metadata": {
        "id": "7TIHdq0QlyXq"
      },
      "source": [
        "with open('/content/drive/MyDrive/models/tokenizer.pickle', 'rb') as handle:\n",
        "    tokenizer = pickle.load(handle)"
      ],
      "execution_count": null,
      "outputs": []
    },
    {
      "cell_type": "markdown",
      "metadata": {
        "id": "3eNITDmsDTGf"
      },
      "source": [
        "## Defining Model using transfer learning"
      ]
    },
    {
      "cell_type": "code",
      "metadata": {
        "colab": {
          "base_uri": "https://localhost:8080/"
        },
        "id": "S1yPCx_MFT70",
        "outputId": "edb0a933-2acc-4404-e5c9-61c9483682c2"
      },
      "source": [
        "from sklearn import preprocessing\n",
        "# label_encoder object knows how to understand word labels. \n",
        "label_encoder = preprocessing.LabelEncoder()\n",
        "# Encode labels in column 'Country'. \n",
        "train_label= label_encoder.fit_transform(rand_labels[:921]) \n",
        "test_labels= label_encoder.fit_transform(rand_labels[1059-22:1059])\n",
        "#print(train_label)\n",
        "print(rand_labels[1059-22:1059])\n",
        "print(test_labels)\n",
        "class_arr = np.array([\n",
        "    \"aesthetic\", \n",
        "    \"craftsmanship\", \n",
        "    \"none\",\n",
        "    \"purpose\"\n",
        "])\n",
        "def decode_labels(class_idx):\n",
        "    return class_arr[class_idx]\n"
      ],
      "execution_count": null,
      "outputs": [
        {
          "output_type": "stream",
          "text": [
            "['aesthetic' 'aesthetic' 'craftsmanship' 'purpose' 'purpose' 'purpose'\n",
            " 'purpose' 'purpose' 'craftsmanship' 'craftsmanship' 'purpose'\n",
            " 'craftsmanship' 'aesthetic' 'aesthetic' 'craftsmanship' 'none'\n",
            " 'craftsmanship' 'craftsmanship' 'purpose' 'aesthetic' 'purpose' 'purpose']\n",
            "[0 0 1 3 3 3 3 3 1 1 3 1 0 0 1 2 1 1 3 0 3 3]\n"
          ],
          "name": "stdout"
        }
      ]
    },
    {
      "cell_type": "code",
      "metadata": {
        "colab": {
          "base_uri": "https://localhost:8080/"
        },
        "id": "Ostq78_AnnkC",
        "outputId": "a7cdeea0-38ef-4745-a511-40531260e17f"
      },
      "source": [
        "from sklearn.linear_model import LogisticRegression\n",
        "lr_clf = LogisticRegression(multi_class='ovr', solver='liblinear')\n",
        "lr_clf.fit(train_data[0],train_label)"
      ],
      "execution_count": null,
      "outputs": [
        {
          "output_type": "execute_result",
          "data": {
            "text/plain": [
              "LogisticRegression(C=1.0, class_weight=None, dual=False, fit_intercept=True,\n",
              "                   intercept_scaling=1, l1_ratio=None, max_iter=100,\n",
              "                   multi_class='ovr', n_jobs=None, penalty='l2',\n",
              "                   random_state=None, solver='liblinear', tol=0.0001, verbose=0,\n",
              "                   warm_start=False)"
            ]
          },
          "metadata": {
            "tags": []
          },
          "execution_count": 106
        }
      ]
    },
    {
      "cell_type": "code",
      "metadata": {
        "colab": {
          "base_uri": "https://localhost:8080/"
        },
        "id": "suuqBbX_GkFk",
        "outputId": "1ac78e07-7e80-4c2e-ed1b-70e243f479bd"
      },
      "source": [
        "a=lr_clf.predict(test_data[0])\n",
        "print(decode_labels(a))\n",
        "print(rand_labels[1059-22:1059])"
      ],
      "execution_count": null,
      "outputs": [
        {
          "output_type": "stream",
          "text": [
            "['aesthetic' 'aesthetic' 'craftsmanship' 'purpose' 'aesthetic' 'purpose'\n",
            " 'purpose' 'purpose' 'craftsmanship' 'craftsmanship' 'purpose'\n",
            " 'craftsmanship' 'aesthetic' 'aesthetic' 'craftsmanship' 'none'\n",
            " 'aesthetic' 'craftsmanship' 'purpose' 'aesthetic' 'purpose' 'purpose']\n",
            "['aesthetic' 'aesthetic' 'craftsmanship' 'purpose' 'purpose' 'purpose'\n",
            " 'purpose' 'purpose' 'craftsmanship' 'craftsmanship' 'purpose'\n",
            " 'craftsmanship' 'aesthetic' 'aesthetic' 'craftsmanship' 'none'\n",
            " 'craftsmanship' 'craftsmanship' 'purpose' 'aesthetic' 'purpose' 'purpose']\n"
          ],
          "name": "stdout"
        }
      ]
    },
    {
      "cell_type": "code",
      "metadata": {
        "id": "4KwcZZhyIGgH"
      },
      "source": [
        "lr_clf.(test_features, test_labels)"
      ],
      "execution_count": null,
      "outputs": []
    }
  ]
}